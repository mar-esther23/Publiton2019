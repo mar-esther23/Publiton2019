{
 "cells": [
  {
   "cell_type": "markdown",
   "metadata": {},
   "source": [
    "# Red de empresas - Colaboraciones en contratos\n",
    "__Queletzú Paulina Aspra Polo y Mariana Esther Martínez Sánchez__\n",
    "\n",
    "1. Limpieza por sexenio\n",
    "* Series de tiempo\n",
    "* Colaboraciones en contratos\n",
    "* Contruccion de redes\n",
    "\n",
    "## Preguntas\n",
    "\n",
    "En total y por sexenio\n",
    "\n",
    "1. Cuántas:\n",
    "    * Empresas\n",
    "    * Empresas o consorcios\n",
    "    * Empresas van solas\n",
    "    * Consorcios\n",
    "    * Tamaño del consorcio\n",
    "* Qué empresas aparecen mas en consorcios?\n",
    "* De todos sus contratos en que porcentaje van en consorcio?\n",
    "* Qué empresas van siempre juntas?\n"
   ]
  },
  {
   "cell_type": "markdown",
   "metadata": {},
   "source": [
    "## Cargar datos"
   ]
  },
  {
   "cell_type": "code",
   "execution_count": 6,
   "metadata": {},
   "outputs": [],
   "source": [
    "import pandas as pd\n",
    "import networkx as nx\n",
    "\n",
    "from utils import clean_string\n",
    "\n",
    "import matplotlib.pyplot as plt\n",
    "import seaborn as sns\n",
    "from matplotlib_venn import venn3\n"
   ]
  },
  {
   "cell_type": "code",
   "execution_count": 2,
   "metadata": {},
   "outputs": [
    {
     "name": "stdout",
     "output_type": "stream",
     "text": [
      "[('FOX', 138462), ('CAL', 549162), ('EPN', 452369)]\n"
     ]
    }
   ],
   "source": [
    "consorcios = {}\n",
    "for pres in ['FOX','CAL','EPN']:\n",
    "    data = pd.read_csv('data-clean/{}-contratos.csv'.format(pres))\n",
    "    data = data['consorcio'].to_list()\n",
    "    data = [d.split(';') if type(d)==str else '' for d in data ]\n",
    "    data = [[clean_string(s) for s in d] for d in data]\n",
    "    data = [list(set(d)) for d in data]\n",
    "    consorcios[pres] = data\n",
    "    data = None\n",
    "print([(i,len(j)) for i,j in consorcios.items()])"
   ]
  },
  {
   "cell_type": "markdown",
   "metadata": {},
   "source": [
    "## Números básicos\n",
    "\n",
    "Cuántas:\n",
    "* Empresas\n"
   ]
  },
  {
   "cell_type": "code",
   "execution_count": 4,
   "metadata": {},
   "outputs": [],
   "source": [
    "unnest = {key:[item for sublist in value for item in sublist] for key,value in consorcios.items()}"
   ]
  },
  {
   "cell_type": "code",
   "execution_count": 12,
   "metadata": {},
   "outputs": [
    {
     "data": {
      "text/plain": [
       "<matplotlib_venn._common.VennDiagram at 0x7fd5fe3bb7b8>"
      ]
     },
     "execution_count": 12,
     "metadata": {},
     "output_type": "execute_result"
    },
    {
     "data": {
      "image/png": "[encoded data removed]",
      "text/plain": [
       "<matplotlib.figure.Figure at 0x7fd5fee69550>"
      ]
     },
     "metadata": {},
     "output_type": "display_data"
    }
   ],
   "source": [
    "venn3( [set(v) for v in unnest.values()], set_labels=unnest.keys() )\n",
    "plt.show()"
   ]
  }
 ],
 "metadata": {
  "kernelspec": {
   "display_name": "Python 3",
   "language": "python",
   "name": "python3"
  },
  "language_info": {
   "codemirror_mode": {
    "name": "ipython",
    "version": 3
   },
   "file_extension": ".py",
   "mimetype": "text/x-python",
   "name": "python",
   "nbconvert_exporter": "python",
   "pygments_lexer": "ipython3",
   "version": "3.6.8"
  }
 },
 "nbformat": 4,
 "nbformat_minor": 2
}
