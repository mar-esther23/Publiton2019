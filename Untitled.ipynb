{
 "cells": [
  {
   "cell_type": "code",
   "execution_count": 1,
   "metadata": {},
   "outputs": [],
   "source": [
    "import pandas as pd\n",
    "import pandas_profiling"
   ]
  },
  {
   "cell_type": "code",
   "execution_count": 6,
   "metadata": {},
   "outputs": [],
   "source": [
    "df = pd.read_csv('data-raw/2018.csv')\n"
   ]
  },
  {
   "cell_type": "code",
   "execution_count": 8,
   "metadata": {},
   "outputs": [
    {
     "data": {
      "text/plain": [
       "0         MARIA DEL SOCORRO AVILES R.;J. VENTURA GONZALE...\n",
       "1                                      IARQUIN S.A. DE C.V.\n",
       "2                       DECIRES COMUNICACION EMPRESARIAL SC\n",
       "3         RECUBRIMIENTO Y RESINAS DE QUERETARO S.A. DE C.V.\n",
       "4         LOS ISMAELES IDEAS CREACIONES Y PROMOCIONALES ...\n",
       "                                ...                        \n",
       "180011    EQUIPOS Y SOLDADURAS DEL NORTE SA DE CV;EQUIPO...\n",
       "180012    EQUIPOS Y SOLDADURAS DEL NORTE SA DE CV;EQUIPO...\n",
       "180013    CASTRO VEGA ARTURO JESUS;CASTRO VEGA ARTURO JESUS\n",
       "180014    LOPEZ MONTOYA BALDOMERO JOEL;LOPEZ MONTOYA BAL...\n",
       "180015                  LOPEZ LEON ARTURO;LOPEZ LEON ARTURO\n",
       "Name: empresa, Length: 180016, dtype: object"
      ]
     },
     "execution_count": 8,
     "metadata": {},
     "output_type": "execute_result"
    }
   ],
   "source": [
    "df['empresa']"
   ]
  },
  {
   "cell_type": "code",
   "execution_count": 5,
   "metadata": {},
   "outputs": [
    {
     "data": {
      "text/html": [
       "\n",
       "        <iframe\n",
       "            width=\"100%\"\n",
       "            height=\"800px\"\n",
       "            src=\"ipynb_tmp/profile_2776592440.html\"\n",
       "            frameborder=\"0\"\n",
       "            allowfullscreen\n",
       "        ></iframe>\n",
       "        "
      ],
      "text/plain": [
       "<IPython.lib.display.IFrame at 0x7f8611709390>"
      ]
     },
     "metadata": {},
     "output_type": "display_data"
    },
    {
     "data": {
      "text/plain": []
     },
     "execution_count": 5,
     "metadata": {},
     "output_type": "execute_result"
    }
   ],
   "source": [
    "pandas_profiling.ProfileReport(df)"
   ]
  }
 ],
 "metadata": {
  "kernelspec": {
   "display_name": "Python 3",
   "language": "python",
   "name": "python3"
  },
  "language_info": {
   "codemirror_mode": {
    "name": "ipython",
    "version": 3
   },
   "file_extension": ".py",
   "mimetype": "text/x-python",
   "name": "python",
   "nbconvert_exporter": "python",
   "pygments_lexer": "ipython3",
   "version": "3.6.8"
  }
 },
 "nbformat": 4,
 "nbformat_minor": 2
}
