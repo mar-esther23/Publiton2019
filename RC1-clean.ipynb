{
 "cells": [
  {
   "cell_type": "markdown",
   "metadata": {},
   "source": [
    "# Publiton 2019 - Red de empresas y dependencias\n",
    "## 1. Limpieza por sexenio\n",
    "__Queletzú Paulina Aspra Polo y Mariana Esther Martínez Sánchez__\n",
    "\n",
    "1. Limpieza por sexenio\n",
    "    * __Limpieza de datos de los dos últimos años de cada sezenio de [QuienEsQuien](https://www.quienesquien.wiki/)__\n",
    "    * Estandarización de la base completa de publicidad del sexenio de EPN [Comunicación Social](http://publicidadoficial.com.mx/)\n",
    "2. Colaboraciones en contratos\n",
    "3. Patrones adjudicación\n",
    "4. Empresas de publicidad"
   ]
  },
  {
   "cell_type": "markdown",
   "metadata": {},
   "source": [
    "## Construir red a partir de csv\n",
    "\n",
    "Podemos ver la base de datos como una red con dos tipos de nodos: empresa / unidad compradora \n",
    "\n",
    "Necesitamos\n",
    "* Empresa\n",
    "* Unidad compradora\n",
    "* Dependencia\n",
    "* Tipo adjudicación\n",
    "* Monto\n",
    "* Servicio\n",
    "\n",
    "Esta red tiene dos tipos de interacciones con varios atributos\n",
    "* empresa\n",
    "* dueño\n",
    "* dependencia\n",
    "* unidad\n",
    "* c_num (número de contratos entre la empresa y unidad)\n",
    "* c_dir (número de contratos por adjudicación directa)\n",
    "* c_inv (número de contratos por invitación a tres)\n",
    "* c_lic (número de contratos por licitación abierta)\n",
    "* c_ids (lista de IDs de todos los contratos)\n",
    "* m_tot (suma del importe de todos los contratos)\n",
    "* m_dir (suma del importe contratos por adjudicación directa)\n",
    "* m_inv (suma del importe contratos por invitación a tres)\n",
    "* m_lic (suma del importe contratos por licitación abierta)\n",
    "* p_dir (porcentaje del monto por adjudicación directa)\n",
    "* p_inv (porcentaje del monto por invitación a tres)\n",
    "* p_lic (porcentaje del monto por licitación abierta)"
   ]
  },
  {
   "cell_type": "code",
   "execution_count": 1,
   "metadata": {
    "jupyter": {
     "source_hidden": true
    }
   },
   "outputs": [],
   "source": [
    "import pandas as pd\n",
    "from numpy import nan\n",
    "\n",
    "from utils import clean_string\n",
    "\n",
    "import warnings\n",
    "warnings.filterwarnings(\"ignore\")"
   ]
  },
  {
   "cell_type": "code",
   "execution_count": 2,
   "metadata": {
    "jupyter": {
     "source_hidden": true
    }
   },
   "outputs": [],
   "source": [
    "def limpiar_df(df,nom):\n",
    "    \"\"\"\n",
    "    Genera tabla de contratos\n",
    "    \"\"\"\n",
    "    print('\\traw', df.shape)\n",
    "    df['monto'] = df['monto'].apply(lambda x: round(x/1000000,3))\n",
    "    for col in ['direct', 'open', 'limited']:\n",
    "        df[col] = df['method'].apply(lambda x: 1 if x==col else 0)\n",
    "        df[col] = df[col] * df['monto']\n",
    "        df[col] = df[col].replace(0, nan)\n",
    "\n",
    "    df['consorcio'] = df['empresa']\n",
    "    df['empresa'] = df['empresa'].apply(lambda x: x.split(';')[0] if type(x)==str else '')\n",
    "    for col in ['dependencia', 'uc', 'empresa']:\n",
    "        df[col] = df[col].apply(clean_string)\n",
    "    df['nombre'] = df[['dependencia', 'uc']].apply(lambda x: x[0]+' ('+x[1]+')' , axis=1)\n",
    "\n",
    "    df = df[['fecha', 'nombre','uc', 'dependencia', 'empresa', 'consorcio',\n",
    "             'servicio', 'method', 'monto', 'direct', 'open', 'limited']]\n",
    "    df.columns = ['fecha', 'nombre','unidad', 'depend', 'empresa', 'consorcio',\n",
    "                  'servicio', 'metodo', 'monto', 'abierta', 'invtres', 'directa']\n",
    "    print('\\tcontratos', df.shape)\n",
    "    df.to_csv('data-clean/{}-contratos.csv'.format(nom), index=False)\n",
    "    return df\n",
    "\n",
    "def obtener_red(df,nom):\n",
    "    \"\"\"\n",
    "    Genera tabla dependencia-empresa, dependencia y empresa\n",
    "    \"\"\"\n",
    "    \n",
    "    def clean_groupby(df_):\n",
    "        df_.columns = df_.columns.droplevel()\n",
    "        df_ = df_.reset_index().sort_values(['m_inv','c_num'], ascending=False)\n",
    "        df_[['p_dir', 'p_inv', 'p_abi']] = df_[['p_dir', 'p_inv', 'p_abi']].divide(df_['m_tot'], axis=0)\n",
    "        return df_\n",
    "\n",
    "    red = df.groupby(['nombre','empresa']).aggregate({\n",
    "                      'monto':   {'c_num':'count', 'm_tot':'sum'},\n",
    "                      'directa': {'c_dir':'count', 'm_dir':'sum', 'p_dir':'sum'},\n",
    "                      'invtres': {'c_inv':'count', 'm_inv':'sum', 'p_inv':'sum'},\n",
    "                      'abierta': {'c_abi':'count', 'm_abi':'sum', 'p_abi':'sum'},\n",
    "                      })\n",
    "    red = clean_groupby(red)\n",
    "    print('\\tred', red.shape)\n",
    "    red.to_csv('data-clean/{}-red.csv'.format(nom), index=False)\n",
    "\n",
    "    for i,j in [[\"empresa\",\"nombre\"], [\"nombre\",\"empresa\"]]:\n",
    "        df_ = red.groupby(i) \\\n",
    "                 .aggregate({j:{'count':'count'}, 'c_num':{'c_num':'sum'},\n",
    "                 'm_tot':{'m_tot':'sum', 'm_mean':'mean', '_max':'max', 'm_min':'min', 'm_std':'std'},\n",
    "                 'm_dir':{'m_dir':'sum','p_dir':'sum'},\n",
    "                 'm_inv':{'m_inv':'sum','p_inv':'sum'},\n",
    "                 'm_abi':{'m_abi':'sum','p_abi':'sum'}\n",
    "                 })\n",
    "        df_ = clean_groupby(df_)\n",
    "        print('\\t'+i, df_.shape)\n",
    "        df_.to_csv('data-clean/{}-{}.csv'.format(nom,i), index=False)"
   ]
  },
  {
   "cell_type": "markdown",
   "metadata": {},
   "source": [
    "Generar los datos por sexenio"
   ]
  },
  {
   "cell_type": "code",
   "execution_count": 3,
   "metadata": {
    "jupyter": {
     "source_hidden": true
    }
   },
   "outputs": [
    {
     "name": "stdout",
     "output_type": "stream",
     "text": [
      "FOX\n",
      "año 2005 (59715, 7)\n",
      "año 2006 (78747, 7)\n",
      "\traw (138462, 7)\n",
      "\tcontratos (138462, 12)\n",
      "\tred (74557, 13)\n",
      "\tempresa (44625, 14)\n",
      "\tnombre (2660, 14)\n",
      "CAL\n",
      "año 2011 (274101, 7)\n",
      "año 2012 (275061, 7)\n",
      "\traw (549162, 7)\n",
      "\tcontratos (549162, 12)\n",
      "\tred (122254, 13)\n",
      "\tempresa (76041, 14)\n",
      "\tnombre (4295, 14)\n",
      "EPN\n",
      "año 2017 (272353, 7)\n",
      "año 2018 (180016, 7)\n",
      "\traw (452369, 7)\n",
      "\tcontratos (452369, 12)\n",
      "\tred (172559, 13)\n",
      "\tempresa (100765, 14)\n",
      "\tnombre (4470, 14)\n"
     ]
    }
   ],
   "source": [
    "sexenios = {'FOX':[2005,2006], 'CAL':[2011,2012], 'EPN':[2017,2018]}\n",
    "for pres,años in sexenios.items():\n",
    "    print(pres)\n",
    "    df = []\n",
    "    for año in años:\n",
    "        df_ = pd.read_csv('data-raw/{}.csv'.format(año))\n",
    "        df_['fecha'] = año\n",
    "        print('año',año, df_.shape)\n",
    "        df.append(df_)\n",
    "    df = pd.concat(df, ignore_index=True, sort=False)\n",
    "    df = limpiar_df(df,pres)\n",
    "    obtener_red(df,pres)\n",
    "\n",
    "## Para datos anuales:\n",
    "#for año in ['2005','2006','2011','2012','2017','2018']:\n",
    "#    print(año)\n",
    "#    df = pd.read_csv('data-raw/{}.csv'.format(año))   "
   ]
  }
 ],
 "metadata": {
  "kernelspec": {
   "display_name": "Python 3",
   "language": "python",
   "name": "python3"
  },
  "language_info": {
   "codemirror_mode": {
    "name": "ipython",
    "version": 3
   },
   "file_extension": ".py",
   "mimetype": "text/x-python",
   "name": "python",
   "nbconvert_exporter": "python",
   "pygments_lexer": "ipython3",
   "version": "3.7.4"
  }
 },
 "nbformat": 4,
 "nbformat_minor": 4
}
