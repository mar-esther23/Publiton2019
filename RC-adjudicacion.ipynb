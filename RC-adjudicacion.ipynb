{
 "cells": [
  {
   "cell_type": "markdown",
   "metadata": {},
   "source": [
    "# Red de empresas - Patrones adjudicación\n",
    "__Queletzú Paulina Aspra Polo y Mariana Esther Martínez Sánchez__\n",
    "\n",
    "1. Limpieza por sexenio\n",
    "* Colaboraciones en contratos\n",
    "* __Patrones adjudicación__\n"
   ]
  },
  {
   "cell_type": "markdown",
   "metadata": {},
   "source": [
    "* ¿Cuántos contratos y de que monto se dieron por cada tipo de adjudicación?\n",
    "    * Sexenio y Año\n",
    "    * Absoluto y normalizado\n",
    "* ¿Cuántas empresas contrata cada institucion? dist\n",
    "* ¿Qué monto asigna por tipo de contrato cada institucion? barra\n",
    "* ¿Para cuántas instituciones trabaja una empresa? dist\n",
    "* ¿Qué monto recibe por tipo de adjudicación una empresa? barra\n",
    "* ¿Qué empresas reciben un solo gran contrato? barra\n",
    "* Lista puede con todas\n",
    "* Lista favoritas\n",
    "* ¿Son las mismas empresas populares a lo largo del tiempo? Venn\n",
    "    * Todas\n",
    "    * Puede con todas\n",
    "    * Las favoritas\n"
   ]
  },
  {
   "cell_type": "markdown",
   "metadata": {},
   "source": [
    "## Cargar datos"
   ]
  }
 ],
 "metadata": {
  "kernelspec": {
   "display_name": "Python 3",
   "language": "python",
   "name": "python3"
  },
  "language_info": {
   "codemirror_mode": {
    "name": "ipython",
    "version": 3
   },
   "file_extension": ".py",
   "mimetype": "text/x-python",
   "name": "python",
   "nbconvert_exporter": "python",
   "pygments_lexer": "ipython3",
   "version": "3.6.8"
  }
 },
 "nbformat": 4,
 "nbformat_minor": 2
}
